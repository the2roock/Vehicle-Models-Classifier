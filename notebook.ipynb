{
 "cells": [
  {
   "cell_type": "markdown",
   "metadata": {},
   "source": [
    "# Requirements"
   ]
  },
  {
   "cell_type": "code",
   "execution_count": 1,
   "metadata": {},
   "outputs": [],
   "source": [
    "import pandas as pd\n",
    "import matplotlib.pyplot as plt\n",
    "\n",
    "from sklearn.preprocessing import MinMaxScaler\n",
    "from sklearn.model_selection import train_test_split\n",
    "\n",
    "from model import VehiclePriceIdentifier\n",
    "\n",
    "import torch\n",
    "import torch.nn as nn"
   ]
  },
  {
   "cell_type": "markdown",
   "metadata": {},
   "source": [
    "# Data Loading"
   ]
  },
  {
   "cell_type": "code",
   "execution_count": 2,
   "metadata": {},
   "outputs": [
    {
     "data": {
      "text/html": [
       "<div>\n",
       "<style scoped>\n",
       "    .dataframe tbody tr th:only-of-type {\n",
       "        vertical-align: middle;\n",
       "    }\n",
       "\n",
       "    .dataframe tbody tr th {\n",
       "        vertical-align: top;\n",
       "    }\n",
       "\n",
       "    .dataframe thead th {\n",
       "        text-align: right;\n",
       "    }\n",
       "</style>\n",
       "<table border=\"1\" class=\"dataframe\">\n",
       "  <thead>\n",
       "    <tr style=\"text-align: right;\">\n",
       "      <th></th>\n",
       "      <th>Car_ID</th>\n",
       "      <th>Brand</th>\n",
       "      <th>Model</th>\n",
       "      <th>Year</th>\n",
       "      <th>Kilometers_Driven</th>\n",
       "      <th>Fuel_Type</th>\n",
       "      <th>Transmission</th>\n",
       "      <th>Owner_Type</th>\n",
       "      <th>Mileage</th>\n",
       "      <th>Engine</th>\n",
       "      <th>Power</th>\n",
       "      <th>Seats</th>\n",
       "      <th>Price</th>\n",
       "    </tr>\n",
       "  </thead>\n",
       "  <tbody>\n",
       "    <tr>\n",
       "      <th>0</th>\n",
       "      <td>1</td>\n",
       "      <td>Toyota</td>\n",
       "      <td>Corolla</td>\n",
       "      <td>2018</td>\n",
       "      <td>50000</td>\n",
       "      <td>Petrol</td>\n",
       "      <td>Manual</td>\n",
       "      <td>First</td>\n",
       "      <td>15</td>\n",
       "      <td>1498</td>\n",
       "      <td>108</td>\n",
       "      <td>5</td>\n",
       "      <td>800000</td>\n",
       "    </tr>\n",
       "    <tr>\n",
       "      <th>1</th>\n",
       "      <td>2</td>\n",
       "      <td>Honda</td>\n",
       "      <td>Civic</td>\n",
       "      <td>2019</td>\n",
       "      <td>40000</td>\n",
       "      <td>Petrol</td>\n",
       "      <td>Automatic</td>\n",
       "      <td>Second</td>\n",
       "      <td>17</td>\n",
       "      <td>1597</td>\n",
       "      <td>140</td>\n",
       "      <td>5</td>\n",
       "      <td>1000000</td>\n",
       "    </tr>\n",
       "    <tr>\n",
       "      <th>2</th>\n",
       "      <td>3</td>\n",
       "      <td>Ford</td>\n",
       "      <td>Mustang</td>\n",
       "      <td>2017</td>\n",
       "      <td>20000</td>\n",
       "      <td>Petrol</td>\n",
       "      <td>Automatic</td>\n",
       "      <td>First</td>\n",
       "      <td>10</td>\n",
       "      <td>4951</td>\n",
       "      <td>395</td>\n",
       "      <td>4</td>\n",
       "      <td>2500000</td>\n",
       "    </tr>\n",
       "    <tr>\n",
       "      <th>3</th>\n",
       "      <td>4</td>\n",
       "      <td>Maruti</td>\n",
       "      <td>Swift</td>\n",
       "      <td>2020</td>\n",
       "      <td>30000</td>\n",
       "      <td>Diesel</td>\n",
       "      <td>Manual</td>\n",
       "      <td>Third</td>\n",
       "      <td>23</td>\n",
       "      <td>1248</td>\n",
       "      <td>74</td>\n",
       "      <td>5</td>\n",
       "      <td>600000</td>\n",
       "    </tr>\n",
       "    <tr>\n",
       "      <th>4</th>\n",
       "      <td>5</td>\n",
       "      <td>Hyundai</td>\n",
       "      <td>Sonata</td>\n",
       "      <td>2016</td>\n",
       "      <td>60000</td>\n",
       "      <td>Diesel</td>\n",
       "      <td>Automatic</td>\n",
       "      <td>Second</td>\n",
       "      <td>18</td>\n",
       "      <td>1999</td>\n",
       "      <td>194</td>\n",
       "      <td>5</td>\n",
       "      <td>850000</td>\n",
       "    </tr>\n",
       "  </tbody>\n",
       "</table>\n",
       "</div>"
      ],
      "text/plain": [
       "   Car_ID    Brand    Model  Year  Kilometers_Driven Fuel_Type Transmission  \\\n",
       "0       1   Toyota  Corolla  2018              50000    Petrol       Manual   \n",
       "1       2    Honda    Civic  2019              40000    Petrol    Automatic   \n",
       "2       3     Ford  Mustang  2017              20000    Petrol    Automatic   \n",
       "3       4   Maruti    Swift  2020              30000    Diesel       Manual   \n",
       "4       5  Hyundai   Sonata  2016              60000    Diesel    Automatic   \n",
       "\n",
       "  Owner_Type  Mileage  Engine  Power  Seats    Price  \n",
       "0      First       15    1498    108      5   800000  \n",
       "1     Second       17    1597    140      5  1000000  \n",
       "2      First       10    4951    395      4  2500000  \n",
       "3      Third       23    1248     74      5   600000  \n",
       "4     Second       18    1999    194      5   850000  "
      ]
     },
     "execution_count": 2,
     "metadata": {},
     "output_type": "execute_result"
    }
   ],
   "source": [
    "filename = \"data/cars.csv\"\n",
    "raw_data = pd.read_csv(filename)\n",
    "raw_data.head()"
   ]
  },
  {
   "cell_type": "markdown",
   "metadata": {},
   "source": [
    "# Data Overview"
   ]
  },
  {
   "cell_type": "code",
   "execution_count": 3,
   "metadata": {},
   "outputs": [
    {
     "name": "stdout",
     "output_type": "stream",
     "text": [
      "<class 'pandas.core.frame.DataFrame'>\n",
      "RangeIndex: 100 entries, 0 to 99\n",
      "Data columns (total 13 columns):\n",
      " #   Column             Non-Null Count  Dtype \n",
      "---  ------             --------------  ----- \n",
      " 0   Car_ID             100 non-null    int64 \n",
      " 1   Brand              100 non-null    object\n",
      " 2   Model              100 non-null    object\n",
      " 3   Year               100 non-null    int64 \n",
      " 4   Kilometers_Driven  100 non-null    int64 \n",
      " 5   Fuel_Type          100 non-null    object\n",
      " 6   Transmission       100 non-null    object\n",
      " 7   Owner_Type         100 non-null    object\n",
      " 8   Mileage            100 non-null    int64 \n",
      " 9   Engine             100 non-null    int64 \n",
      " 10  Power              100 non-null    int64 \n",
      " 11  Seats              100 non-null    int64 \n",
      " 12  Price              100 non-null    int64 \n",
      "dtypes: int64(8), object(5)\n",
      "memory usage: 10.3+ KB\n"
     ]
    }
   ],
   "source": [
    "raw_data.info()"
   ]
  },
  {
   "cell_type": "code",
   "execution_count": 4,
   "metadata": {},
   "outputs": [
    {
     "data": {
      "text/plain": [
       "count    1.000000e+02\n",
       "mean     1.574000e+06\n",
       "std      1.000265e+06\n",
       "min      4.500000e+05\n",
       "25%      7.000000e+05\n",
       "50%      1.300000e+06\n",
       "75%      2.500000e+06\n",
       "max      4.000000e+06\n",
       "Name: Price, dtype: float64"
      ]
     },
     "execution_count": 4,
     "metadata": {},
     "output_type": "execute_result"
    }
   ],
   "source": [
    "raw_data.Price.describe()"
   ]
  },
  {
   "cell_type": "code",
   "execution_count": 19,
   "metadata": {},
   "outputs": [
    {
     "data": {
      "image/png": "[encoded data removed]",
      "text/plain": [
       "<Figure size 640x480 with 1 Axes>"
      ]
     },
     "metadata": {},
     "output_type": "display_data"
    }
   ],
   "source": [
    "avg_prices = raw_data.groupby(\"Brand\")[\"Price\"].mean().sort_values(ascending=False)\n",
    "avg_prices.plot(kind=\"bar\", grid=True, colormap=\"plasma\", title=\"Avg. Price per Brand\")\n",
    "plt.ylabel(\"Price $\")\n",
    "plt.tight_layout()\n",
    "plt.savefig(\"plots/Avg. Price per Brand.png\", dpi=300)"
   ]
  },
  {
   "cell_type": "markdown",
   "metadata": {},
   "source": [
    "# Data Preprocessing"
   ]
  },
  {
   "cell_type": "code",
   "execution_count": 6,
   "metadata": {},
   "outputs": [
    {
     "data": {
      "text/plain": [
       "(torch.Size([80, 12]), torch.Size([80, 1]))"
      ]
     },
     "execution_count": 6,
     "metadata": {},
     "output_type": "execute_result"
    }
   ],
   "source": [
    "df = raw_data.copy()\n",
    "\n",
    "# Drop useless data\n",
    "df.drop(\"Car_ID\", axis=1, inplace=True)\n",
    "\n",
    "# Enumerate object data\n",
    "cols_to_enum = [\"Brand\", \"Model\", \"Fuel_Type\", \"Transmission\", \"Owner_Type\"]\n",
    "for col_to_enum in cols_to_enum:\n",
    "    enums = {value: i for i, value in enumerate(df[col_to_enum].unique())}\n",
    "    df[col_to_enum] = df[col_to_enum].apply(lambda element: enums[element])\n",
    "\n",
    "# Define X, y\n",
    "X = df[[\"Brand\", \"Model\", \"Year\", \"Kilometers_Driven\", \"Fuel_Type\", \"Transmission\", \"Owner_Type\", \"Mileage\", \"Engine\", \"Power\", \"Seats\", \"Price\"]].to_numpy()\n",
    "y = df[\"Price\"].to_numpy().reshape((len(df), 1))\n",
    "\n",
    "# Input data normalization\n",
    "X_scaler = MinMaxScaler()\n",
    "X = X_scaler.fit_transform(X)\n",
    "\n",
    "# Train/Test split\n",
    "X_train, X_test, y_train, y_test = train_test_split(X, y, test_size=.2)\n",
    "\n",
    "# Convert to Tensor\n",
    "X_train, X_test, y_train, y_test = torch.FloatTensor(X_train), torch.FloatTensor(X_test), torch.FloatTensor(y_train), torch.FloatTensor(y_test)\n",
    "X_train.shape, y_train.shape"
   ]
  },
  {
   "cell_type": "markdown",
   "metadata": {},
   "source": [
    "# Model Initialization"
   ]
  },
  {
   "cell_type": "code",
   "execution_count": 20,
   "metadata": {},
   "outputs": [
    {
     "data": {
      "text/plain": [
       "(VehiclePriceIdentifier(\n",
       "   (fc1): Linear(in_features=12, out_features=16, bias=True)\n",
       "   (fc2): Linear(in_features=16, out_features=8, bias=True)\n",
       "   (fc3): Linear(in_features=8, out_features=1, bias=True)\n",
       " ),\n",
       " 353)"
      ]
     },
     "execution_count": 20,
     "metadata": {},
     "output_type": "execute_result"
    }
   ],
   "source": [
    "torch.manual_seed(42)\n",
    "model = VehiclePriceIdentifier()\n",
    "model, model.parameters_count"
   ]
  },
  {
   "cell_type": "markdown",
   "metadata": {},
   "source": [
    "# Model Training"
   ]
  },
  {
   "cell_type": "code",
   "execution_count": 21,
   "metadata": {},
   "outputs": [
    {
     "name": "stdout",
     "output_type": "stream",
     "text": [
      "Epoch: 2500 --> Loss: 461838811136.0\n",
      "Epoch: 5000 --> Loss: 109877895168.0\n",
      "Epoch: 7500 --> Loss: 57407963136.0\n",
      "Epoch: 10000 --> Loss: 18644746240.0\n",
      "Epoch: 12500 --> Loss: 903185088.0\n",
      "Epoch: 15000 --> Loss: 547770.9375\n",
      "Epoch: 17500 --> Loss: 0.04536132887005806\n",
      "Epoch: 20000 --> Loss: 0.264892578125\n",
      "Epoch: 22500 --> Loss: 0.03500976413488388\n",
      "Epoch: 25000 --> Loss: 0.008056640625\n"
     ]
    },
    {
     "data": {
      "image/png": "[encoded data removed]",
      "text/plain": [
       "<Figure size 640x480 with 1 Axes>"
      ]
     },
     "metadata": {},
     "output_type": "display_data"
    }
   ],
   "source": [
    "# Hyperparameters\n",
    "learning_rate = .01\n",
    "epochs = 25000\n",
    "\n",
    "# Loss function\n",
    "loss_function = nn.MSELoss()\n",
    "\n",
    "# Optimization algorithm\n",
    "optimizer = torch.optim.Adam(model.parameters(), lr=learning_rate)\n",
    "\n",
    "# Define tracking variable\n",
    "train_losses = list()\n",
    "test_losses = list()\n",
    "\n",
    "# Set model state to 'train'\n",
    "model.train()\n",
    "\n",
    "# Process training\n",
    "for epoch in range(1, epochs+1):\n",
    "    optimizer.zero_grad()\n",
    "    \n",
    "    out = model(X_train)\n",
    "    loss = loss_function(out, y_train)\n",
    "    loss.backward()\n",
    "    optimizer.step()\n",
    "    \n",
    "    train_losses.append(loss.item())\n",
    "    with torch.no_grad():\n",
    "        test_out = model(X_test)\n",
    "        loss = loss_function(test_out, y_test)\n",
    "        test_losses.append(loss.item())\n",
    "\n",
    "    if epoch % 2500 == 0:\n",
    "        print(f\"Epoch: {epoch} --> Loss: {loss.item()}\")\n",
    "\n",
    "# Plot training results\n",
    "plt.plot(train_losses, label=\"train\")\n",
    "plt.plot(test_losses, label=\"test\")\n",
    "plt.grid()\n",
    "plt.xlabel(\"Epoch\")\n",
    "plt.ylabel(\"MSE\")\n",
    "plt.title(\"Training Results\")\n",
    "plt.legend()\n",
    "plt.tight_layout()\n",
    "plt.savefig(\"plots/Training Results.png\", dpi=300)\n"
   ]
  },
  {
   "cell_type": "markdown",
   "metadata": {},
   "source": [
    "# Result"
   ]
  },
  {
   "cell_type": "code",
   "execution_count": 23,
   "metadata": {},
   "outputs": [
    {
     "data": {
      "image/png": "[encoded data removed]",
      "text/plain": [
       "<Figure size 640x480 with 1 Axes>"
      ]
     },
     "metadata": {},
     "output_type": "display_data"
    }
   ],
   "source": [
    "# Model`s Success\n",
    "model.eval()\n",
    "with torch.no_grad():\n",
    "    out = model(X_test)\n",
    "plt.bar(range(len(out)), out.flatten(), width=.3, color='green', label=\"Predicts\")\n",
    "plt.bar([e + .3 for e in range(len(out))], y_test.flatten(), width=.3, color='purple', label=\"Targets\")\n",
    "plt.grid(linewidth=.5)\n",
    "plt.legend()\n",
    "plt.title(\"Comparison of Predicted and Real Values\")\n",
    "plt.xlabel(\"Car ID\")\n",
    "plt.xticks(ticks=range(len(out)), labels=raw_data.Car_ID[-20:])\n",
    "plt.ylabel(\"Price\")\n",
    "plt.yticks(ticks=[0, .5e6, 1.0e6, 1.5e6, 2.0e6, 2.5e6, 3.0e6, 3.5e6, 4.0e6], labels=[\"0\", \"$500K\", \"$1M\", \"$1.5M\", \"$2M\", \"$2.5M\", \"$3M\", \"$3.5M\", \"$4M\"])\n",
    "plt.tight_layout()\n",
    "plt.savefig(\"plots/Comparison of Predicted and Real Values.png\", dpi=300)\n"
   ]
  },
  {
   "cell_type": "code",
   "execution_count": 24,
   "metadata": {},
   "outputs": [
    {
     "name": "stdout",
     "output_type": "stream",
     "text": [
      "Model`s Absolute Error is 0.04$\n"
     ]
    }
   ],
   "source": [
    "# MAE Score\n",
    "mae_error = (sum(abs(out.flatten() - y_test.flatten())) / len(out)).item()\n",
    "print(f\"Model`s Absolute Error is {round(mae_error, 2)}$\")"
   ]
  },
  {
   "cell_type": "markdown",
   "metadata": {},
   "source": [
    "# Model Saving"
   ]
  },
  {
   "cell_type": "code",
   "execution_count": 13,
   "metadata": {},
   "outputs": [
    {
     "name": "stdout",
     "output_type": "stream",
     "text": [
      "The model saved as models/vehicle_price_identifier-353.model\n"
     ]
    }
   ],
   "source": [
    "filename = f\"models/vehicle_price_identifier-{model.parameters_count:,}.model\"\n",
    "torch.save(model, filename)\n",
    "print(f\"The model saved as {filename}\")"
   ]
  },
  {
   "cell_type": "code",
   "execution_count": null,
   "metadata": {},
   "outputs": [],
   "source": []
  }
 ],
 "metadata": {
  "kernelspec": {
   "display_name": ".venv",
   "language": "python",
   "name": "python3"
  },
  "language_info": {
   "codemirror_mode": {
    "name": "ipython",
    "version": 3
   },
   "file_extension": ".py",
   "mimetype": "text/x-python",
   "name": "python",
   "nbconvert_exporter": "python",
   "pygments_lexer": "ipython3",
   "version": "3.12.2"
  }
 },
 "nbformat": 4,
 "nbformat_minor": 2
}
